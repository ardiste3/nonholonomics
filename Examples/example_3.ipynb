{
 "cells": [
  {
   "cell_type": "code",
   "execution_count": 1,
   "metadata": {},
   "outputs": [],
   "source": [
    "# ! pip install -i https://test.pypi.org/simple/ nonholonomics\n",
    "from nonholonomics import *\n",
    "# from sympy.physics.vector import dynamicsymbols"
   ]
  },
  {
   "cell_type": "code",
   "execution_count": 2,
   "metadata": {},
   "outputs": [],
   "source": [
    "# This step establishes the variable names used for the coordinates used in the lagrangian.\n",
    "# coordinates must be entered with independent coords first.\n",
    "x, y, z = dynamicsymbols('x y z')\n",
    "# The right side of this equation must match the left side of the one above.\n",
    "coordinates = z, x, y\n",
    "\n",
    " # This step establishes the variable names we wish to use for the state space\n",
    "z1, z2, z3, z4, z5, = dynamicsymbols('z1 z2 z3 z4 z5')\n",
    "# The contents of the list must match the left side of the equation above\n",
    "state_variables = [z1, z2, z3, z4, z5]\n",
    "\n",
    "# This step assigns variable names fot coordinate derivatives\n",
    "xd, yd, zd = dynamicsymbols('x y z', 1)\n",
    "# The right side of this equation must match the left side of the one above.\n",
    "coordinate_derivatives = zd, xd, yd\n",
    "\n",
    "# This step makes the parameters into symbols.\n",
    "# Every parrameter in the system must appear here. If the value is known, enter it directly in the Lagrangian\n",
    "m, g = sym.symbols('m g')\n",
    "\n",
    "# The Lagrangian with parameters, coordinates, and coordinate derivatives as symbols and symbol functions.\n",
    "# This MUST be entered with the exact same coordinate and parameter names that were established above.\n",
    "lagrangian = sym.Rational(1/2)*m*(xd**2+yd**2+zd**2)-m*g*z\n",
    "\n",
    "# Enter the constraint equations here. They must be in derivative form, not Pfaffian form. Additionally,\n",
    "# the constraints must equal 0 on the right hand side.\n",
    "# Example: x'+y'+yz'=0. c1 and c2 are the consrtraint equations. If more are desired, follow the same naming convention.\n",
    "# If your system has 0 nonholonimic constraints, the program will default to the ordinary lagrages equations.\n",
    "c1 = xd+x*yd+y*zd\n",
    "c2 = y*xd+z*yd+zd\n",
    "constraint_equations = c1,c2"
   ]
  },
  {
   "cell_type": "code",
   "execution_count": 3,
   "metadata": {},
   "outputs": [
    {
     "data": {
      "text/latex": [
       "$\\displaystyle g m + m y{\\left(t \\right)} \\frac{d^{2}}{d t^{2}} x{\\left(t \\right)} + m \\frac{d^{2}}{d t^{2}} y{\\left(t \\right)} + m \\frac{d^{2}}{d t^{2}} z{\\left(t \\right)}$"
      ],
      "text/plain": [
       "g*m + m*y(t)*Derivative(x(t), (t, 2)) + m*Derivative(y(t), (t, 2)) + m*Derivative(z(t), (t, 2))"
      ]
     },
     "execution_count": 3,
     "metadata": {},
     "output_type": "execute_result"
    }
   ],
   "source": [
    "# Instantiation of LagrangeEqn.\n",
    "system=NHL_Eqn(lagrangian,coordinates,coordinate_derivatives,\n",
    "                    state_variables,constraint_equations=constraint_equations,k=1,m=2)\n",
    "\n",
    "# Application of lagranges_equations to obtain equations of motion.\n",
    "equations_of_motion=system.nh_lagranges_equations()\n",
    "\n",
    "# Simplification of equaitons of motion for a cleaner, more intuitive \n",
    "# looking expression.\n",
    "equations_of_motion[0]"
   ]
  },
  {
   "cell_type": "code",
   "execution_count": null,
   "metadata": {},
   "outputs": [],
   "source": []
  },
  {
   "cell_type": "code",
   "execution_count": null,
   "metadata": {},
   "outputs": [],
   "source": []
  }
 ],
 "metadata": {
  "kernelspec": {
   "display_name": "base",
   "language": "python",
   "name": "python3"
  },
  "language_info": {
   "codemirror_mode": {
    "name": "ipython",
    "version": 3
   },
   "file_extension": ".py",
   "mimetype": "text/x-python",
   "name": "python",
   "nbconvert_exporter": "python",
   "pygments_lexer": "ipython3",
   "version": "3.9.12"
  },
  "orig_nbformat": 4,
  "vscode": {
   "interpreter": {
    "hash": "40d3a090f54c6569ab1632332b64b2c03c39dcf918b08424e98f38b5ae0af88f"
   }
  }
 },
 "nbformat": 4,
 "nbformat_minor": 2
}
